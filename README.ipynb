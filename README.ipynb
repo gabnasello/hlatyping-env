{
 "cells": [
  {
   "cell_type": "markdown",
   "id": "c3730ffc",
   "metadata": {},
   "source": [
    "\n",
    "**Getting Started**\n",
    "-------------------"
   ]
  },
  {
   "cell_type": "markdown",
   "id": "4faf497a",
   "metadata": {},
   "source": [
    "### Step 1: Download Template Repository\n",
    "\n",
    "Clone the most up-to-date templates from the [hlatyping-env_templates](https://github.com/gabnasello/hlatyping-env_templates) repository using the following command:\n",
    "    "
   ]
  },
  {
   "cell_type": "code",
   "execution_count": null,
   "id": "cb2e8df8",
   "metadata": {},
   "outputs": [],
   "source": [
    "!git clone https://github.com/gabnasello/hlatyping-env_templates"
   ]
  },
  {
   "cell_type": "markdown",
   "id": "bec1e4cb",
   "metadata": {},
   "source": [
    "\n",
    "### Step 2: Adapt the Template\n",
    "\n",
    "Modify the `HLAtyping.ipynb` file according to your specific needs.    "
   ]
  }
 ],
 "metadata": {
  "kernelspec": {
   "display_name": "Python 3 (ipykernel)",
   "language": "python",
   "name": "python3"
  },
  "language_info": {
   "codemirror_mode": {
    "name": "ipython",
    "version": 3
   },
   "file_extension": ".py",
   "mimetype": "text/x-python",
   "name": "python",
   "nbconvert_exporter": "python",
   "pygments_lexer": "ipython3",
   "version": "3.12.8"
  }
 },
 "nbformat": 4,
 "nbformat_minor": 5
}
